{
 "cells": [
  {
   "cell_type": "code",
   "id": "initial_id",
   "metadata": {
    "collapsed": true,
    "ExecuteTime": {
     "end_time": "2025-03-19T09:12:45.920986Z",
     "start_time": "2025-03-19T09:12:45.135540Z"
    }
   },
   "source": "import numpy as np",
   "outputs": [],
   "execution_count": 1
  },
  {
   "metadata": {},
   "cell_type": "code",
   "outputs": [],
   "execution_count": null,
   "source": "",
   "id": "eea28955ba8d2b8"
  },
  {
   "metadata": {},
   "cell_type": "markdown",
   "source": [
    "SIMPLE NETWORK\n",
    "\n",
    "STEPS:\n",
    "1. Calculate the weighted input to the hidden layer by multiplying X\n",
    " by the hidden weight Wh\n",
    "2. Apply the activation function and pass the result to the final layer\n",
    "3. Repeat step 2 except this time X\n",
    " is replaced by the hidden layer’s output, H"
   ],
   "id": "f4cb0d19d867a990"
  },
  {
   "metadata": {
    "ExecuteTime": {
     "end_time": "2025-03-19T09:15:22.597752Z",
     "start_time": "2025-03-19T09:15:22.578789Z"
    }
   },
   "cell_type": "code",
   "source": [
    "def relu(z):\n",
    "    return max(0, z)"
   ],
   "id": "c77c815137afd072",
   "outputs": [],
   "execution_count": 2
  },
  {
   "metadata": {
    "ExecuteTime": {
     "end_time": "2025-03-19T09:17:53.617421Z",
     "start_time": "2025-03-19T09:17:53.598685Z"
    }
   },
   "cell_type": "code",
   "source": [
    "def feedforward(x, Wh, Wb):\n",
    "    Zh=x*Wh\n",
    "    H=relu(Zh)\n",
    "    \n",
    "    Zo=H*Wb\n",
    "    return Zo"
   ],
   "id": "f151fb9523977690",
   "outputs": [],
   "execution_count": 3
  },
  {
   "metadata": {
    "ExecuteTime": {
     "end_time": "2025-03-19T09:19:59.828936Z",
     "start_time": "2025-03-19T09:19:59.822564Z"
    }
   },
   "cell_type": "code",
   "source": "feedforward(1,0.0234,0.876)",
   "id": "8036b0bbeef0af3b",
   "outputs": [
    {
     "data": {
      "text/plain": [
       "0.0204984"
      ]
     },
     "execution_count": 8,
     "metadata": {},
     "output_type": "execute_result"
    }
   ],
   "execution_count": 8
  },
  {
   "metadata": {},
   "cell_type": "markdown",
   "source": "LARGER NETWORKS",
   "id": "a6889d0215660e5e"
  },
  {
   "metadata": {
    "ExecuteTime": {
     "end_time": "2025-04-15T03:40:52.160036Z",
     "start_time": "2025-04-15T03:40:52.148432Z"
    }
   },
   "cell_type": "code",
   "source": [
    "INPUT_LAYER_SIZE = 1\n",
    "HIDDEN_LAYER_SIZE = 2\n",
    "OUTPUT_LAYER_SIZE = 2"
   ],
   "id": "6d7a785ef67470ee",
   "outputs": [],
   "execution_count": 1
  },
  {
   "metadata": {
    "ExecuteTime": {
     "end_time": "2025-04-15T04:16:10.849216Z",
     "start_time": "2025-04-15T04:16:10.798216Z"
    }
   },
   "cell_type": "code",
   "source": [
    "def init_weights():\n",
    "    Wh=np.random.randn(INPUT_LAYER_SIZE,HIDDEN_LAYER_SIZE)*\\\n",
    "        np.sqrt(2.0/INPUT_LAYER_SIZE)\n",
    "    Wo=np.random.randn(HIDDEN_LAYER_SIZE,OUTPUT_LAYER_SIZE)*\\\n",
    "        np.sqrt(2.0/HIDDEN_LAYER_SIZE)"
   ],
   "id": "3e0aa2e49a7d643e",
   "outputs": [],
   "execution_count": 2
  },
  {
   "metadata": {
    "ExecuteTime": {
     "end_time": "2025-04-15T04:20:51.672046Z",
     "start_time": "2025-04-15T04:20:51.617884Z"
    }
   },
   "cell_type": "code",
   "source": [
    "def init_bias():\n",
    "    Bh = np.full((1, HIDDEN_LAYER_SIZE), 0.1)\n",
    "    Bo = np.full((1, OUTPUT_LAYER_SIZE), 0.1)\n",
    "    return Bh, Bo"
   ],
   "id": "4f70e0523a81b7d5",
   "outputs": [],
   "execution_count": 3
  },
  {
   "metadata": {
    "ExecuteTime": {
     "end_time": "2025-04-15T04:22:49.461192Z",
     "start_time": "2025-04-15T04:22:49.449105Z"
    }
   },
   "cell_type": "code",
   "source": [
    "def relu_prime(Z):\n",
    "    return max(0, Z)"
   ],
   "id": "5b0f33d58bee51fc",
   "outputs": [],
   "execution_count": 4
  },
  {
   "metadata": {},
   "cell_type": "code",
   "outputs": [],
   "execution_count": null,
   "source": "",
   "id": "1f8b2d8b8939e680"
  },
  {
   "metadata": {},
   "cell_type": "code",
   "outputs": [],
   "execution_count": null,
   "source": [
    "def forward_propagation(X, W, b):\n",
    "    "
   ],
   "id": "c6f37b620949fee5"
  }
 ],
 "metadata": {
  "kernelspec": {
   "display_name": "Python 3",
   "language": "python",
   "name": "python3"
  },
  "language_info": {
   "codemirror_mode": {
    "name": "ipython",
    "version": 2
   },
   "file_extension": ".py",
   "mimetype": "text/x-python",
   "name": "python",
   "nbconvert_exporter": "python",
   "pygments_lexer": "ipython2",
   "version": "2.7.6"
  }
 },
 "nbformat": 4,
 "nbformat_minor": 5
}
